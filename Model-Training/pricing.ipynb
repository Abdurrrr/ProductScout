{
 "cells": [
  {
   "cell_type": "code",
   "execution_count": 54,
   "id": "5e41458d",
   "metadata": {},
   "outputs": [],
   "source": [
    "import pandas as pd\n",
    "from datetime import datetime, timedelta"
   ]
  },
  {
   "cell_type": "code",
   "execution_count": null,
   "id": "96648a7f",
   "metadata": {},
   "outputs": [],
   "source": [
    "df = pd.read_csv(\"C:\\\\Users\\\\Hassa\\\\OneDrive\\\\Desktop\\\\PRODUCT_SCOUT\\\\Model-Training\\\\dataset.csv\")\n",
    "df['Price'] = df['Price'].str.replace('Rs. ', '').str.replace(',', '')\n",
    "df['Price'] = df['Price'].astype(float)\n",
    "df['Date'] = pd.to_datetime(df['Date'])\n",
    "max_date = df['Date'].max()\n",
    "start_date = max_date - pd.DateOffset(days=7)\n",
    "df = df[(df['Date'] >= start_date) & (df['Date'] <= max_date)]\n",
    "grouped = df.groupby(['Category', 'Sub-Category', 'SubSub-Category'])\n",
    "result = grouped['Price'].agg(['max', 'min', 'mean'])\n",
    "result = result.reset_index()\n",
    "result['mean'] = result['mean'].apply(lambda x: round(x, 0))\n",
    "result.to_csv(\"pricing.csv\", index = False)"
   ]
  },
  {
   "cell_type": "code",
   "execution_count": 53,
   "id": "eb348344",
   "metadata": {},
   "outputs": [],
   "source": []
  },
  {
   "cell_type": "code",
   "execution_count": null,
   "id": "0839dad5",
   "metadata": {},
   "outputs": [],
   "source": []
  }
 ],
 "metadata": {
  "kernelspec": {
   "display_name": "Python 3 (ipykernel)",
   "language": "python",
   "name": "python3"
  },
  "language_info": {
   "codemirror_mode": {
    "name": "ipython",
    "version": 3
   },
   "file_extension": ".py",
   "mimetype": "text/x-python",
   "name": "python",
   "nbconvert_exporter": "python",
   "pygments_lexer": "ipython3",
   "version": "3.9.12"
  }
 },
 "nbformat": 4,
 "nbformat_minor": 5
}
