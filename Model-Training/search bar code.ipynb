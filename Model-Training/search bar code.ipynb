{
 "cells": [
  {
   "cell_type": "code",
   "execution_count": 193,
   "id": "7c0d7e45",
   "metadata": {},
   "outputs": [],
   "source": [
    "import os\n",
    "import pandas as pd\n",
    "import pickle\n",
    "import numpy as np\n",
    "from sentence_transformers import SentenceTransformer\n",
    "from sklearn.metrics.pairwise import cosine_similarity, euclidean_distances\n",
    "from scipy.spatial.distance import cityblock as manhattan_distance\n",
    "from scipy.spatial.distance import minkowski as minkowski_distance\n",
    "from scipy.stats import spearmanr\n",
    "import tensorflow_hub as hub\n",
    "from transformers import AutoTokenizer, AutoModel"
   ]
  },
  {
   "cell_type": "code",
   "execution_count": 194,
   "id": "b9401ff2",
   "metadata": {},
   "outputs": [],
   "source": [
    "model = SentenceTransformer('bert-base-nli-mean-tokens')"
   ]
  },
  {
   "cell_type": "code",
   "execution_count": 195,
   "id": "b876550a",
   "metadata": {},
   "outputs": [],
   "source": [
    "dir_path = \"C:\\\\Users\\\\Hassa\\\\OneDrive\\\\Desktop\\\\PRODUCT_SCOUT\\\\Back-End\\\\processed_data.csv\"\n",
    "df = pd.read_csv(dir_path)\n",
    "\n",
    "temp = []\n",
    "cats = []\n",
    "for i in range(len(df)):\n",
    "    temp.append(df[\"Category\"][i])\n",
    "    temp.append(df[\"Sub-Category\"][i])\n",
    "    temp.append(df[\"Sub-Sub-Category\"][i])\n",
    "    cats.append(temp)\n",
    "    temp = []\n",
    "\n",
    "categories = []\n",
    "for item in cats:\n",
    "    if item not in categories:\n",
    "        categories.append(item)"
   ]
  },
  {
   "cell_type": "code",
   "execution_count": 196,
   "id": "e0526861",
   "metadata": {},
   "outputs": [],
   "source": [
    "category_query_list = [category[0] + \" \" + category[1] + \" \" + category[2] for category in categories]\n",
    "category_query_embeddings_categorical = model.encode(category_query_list)\n",
    "category_query_list_hierarchical = [category[0] for category in categories] + [category[1] for category in categories] + [category[2] for category in categories]\n",
    "category_query_embeddings_hierarchical = model.encode(category_query_list_hierarchical)"
   ]
  },
  {
   "cell_type": "code",
   "execution_count": 197,
   "id": "020a0178",
   "metadata": {},
   "outputs": [],
   "source": [
    "user_query = \"men shirts\""
   ]
  },
  {
   "cell_type": "code",
   "execution_count": 198,
   "id": "fb7cdca9",
   "metadata": {},
   "outputs": [
    {
     "name": "stdout",
     "output_type": "stream",
     "text": [
      "['Fashion', 'Men', 'Clothing']\n"
     ]
    }
   ],
   "source": [
    "category_scores = []\n",
    "user_query_embedding = model.encode([user_query])[0]\n",
    "for i, category in enumerate(categories):\n",
    "    score = cosine_similarity(user_query_embedding.reshape(1, -1), category_query_embeddings_categorical[i].reshape(1, -1))\n",
    "    category_scores.append((category, score))\n",
    "sorted_scores_categorical = sorted(category_scores, key=lambda x: x[1], reverse=True)\n",
    "\n",
    "category_scores_hierarchical = []\n",
    "user_query_embedding = model.encode([user_query])[0]\n",
    "for i, category in enumerate(categories):\n",
    "    category1_score = cosine_similarity(user_query_embedding.reshape(1, -1), category_query_embeddings_hierarchical[i].reshape(1, -1))\n",
    "    category2_score = cosine_similarity(user_query_embedding.reshape(1, -1), category_query_embeddings_hierarchical[i+len(categories)].reshape(1, -1))\n",
    "    category3_score = cosine_similarity(user_query_embedding.reshape(1, -1), category_query_embeddings_hierarchical[i+len(categories)*2].reshape(1, -1))\n",
    "    score = (category1_score + category2_score + category3_score) / 3\n",
    "    category_scores_hierarchical.append((category, score))\n",
    "\n",
    "sorted_scores_hierarchical = sorted(category_scores_hierarchical, key=lambda x: x[1], reverse=True)\n",
    "\n",
    "SCORES1 = []\n",
    "SCORES1.append(sorted_scores_categorical[0][0])\n",
    "SCORES1.append(sorted_scores_categorical[1][0])\n",
    "SCORES1.append(sorted_scores_categorical[2][0])\n",
    "\n",
    "SCORES2 = []\n",
    "SCORES2.append(sorted_scores_hierarchical[0][0])\n",
    "SCORES2.append(sorted_scores_hierarchical[1][0])\n",
    "SCORES2.append(sorted_scores_hierarchical[2][0])\n",
    "\n",
    "combined_list = SCORES1 + SCORES2\n",
    "counts = {}\n",
    "for lst in combined_list:\n",
    "    key = tuple(lst)\n",
    "    if key in counts:\n",
    "        counts[key] += 1\n",
    "    else:\n",
    "        counts[key] = 1\n",
    "\n",
    "sorted_counts = sorted(counts.items(), key=lambda x: x[1], reverse=True)\n",
    "for key, count in sorted_counts:\n",
    "    if list(key) in SCORES1 or list(key) in SCORES2:\n",
    "        categoric_mapping = list(key)\n",
    "        break\n",
    "        \n",
    "print(categoric_mapping)"
   ]
  },
  {
   "cell_type": "code",
   "execution_count": 199,
   "id": "b1013f4e",
   "metadata": {},
   "outputs": [],
   "source": [
    "output_directory = \"C:\\\\Users\\\\Hassa\\\\OneDrive\\\\Desktop\\\\PRODUCT_SCOUT\\\\Back-End\"\n",
    "\n",
    "with open(os.path.join(output_directory, 'categories.pkl'), 'wb') as f:\n",
    "    pickle.dump(categories, f)\n",
    "\n",
    "with open(os.path.join(output_directory, 'category_embeddings_categorical.pkl'), 'wb') as f:\n",
    "    pickle.dump(category_query_embeddings_categorical, f)\n",
    "    \n",
    "with open(os.path.join(output_directory, 'category_embeddings_hierarchical.pkl'), 'wb') as f:\n",
    "    pickle.dump(category_query_embeddings_hierarchical, f)"
   ]
  },
  {
   "cell_type": "code",
   "execution_count": null,
   "id": "72e878e3",
   "metadata": {},
   "outputs": [],
   "source": []
  },
  {
   "cell_type": "code",
   "execution_count": null,
   "id": "b9c08afa",
   "metadata": {},
   "outputs": [],
   "source": []
  }
 ],
 "metadata": {
  "kernelspec": {
   "display_name": "Python 3 (ipykernel)",
   "language": "python",
   "name": "python3"
  },
  "language_info": {
   "codemirror_mode": {
    "name": "ipython",
    "version": 3
   },
   "file_extension": ".py",
   "mimetype": "text/x-python",
   "name": "python",
   "nbconvert_exporter": "python",
   "pygments_lexer": "ipython3",
   "version": "3.9.12"
  }
 },
 "nbformat": 4,
 "nbformat_minor": 5
}
